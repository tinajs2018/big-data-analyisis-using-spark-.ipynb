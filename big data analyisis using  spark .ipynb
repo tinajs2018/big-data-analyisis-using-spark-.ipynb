{
 "cells": [
  {
   "cell_type": "code",
   "execution_count": 1,
   "id": "0ff99774-13d9-4234-b663-4c8352745059",
   "metadata": {},
   "outputs": [],
   "source": [
    "#imitialization of the pyspark\n",
    "import findspark\n",
    "findspark.init()\n",
    "import pyspark\n",
    "\n",
    "from pyspark.sql import SparkSession"
   ]
  },
  {
   "cell_type": "code",
   "execution_count": 2,
   "id": "4b003d51-3af2-4efe-be11-8791e6f45f11",
   "metadata": {},
   "outputs": [
    {
     "name": "stderr",
     "output_type": "stream",
     "text": [
      "24/07/18 12:07:12 WARN Utils: Your hostname, hp resolves to a loopback address: 127.0.1.1; using 192.168.100.4 instead (on interface wlp2s0)\n",
      "24/07/18 12:07:12 WARN Utils: Set SPARK_LOCAL_IP if you need to bind to another address\n",
      "Using Spark's default log4j profile: org/apache/spark/log4j-defaults.properties\n",
      "Setting default log level to \"WARN\".\n",
      "To adjust logging level use sc.setLogLevel(newLevel). For SparkR, use setLogLevel(newLevel).\n",
      "24/07/18 12:07:13 WARN NativeCodeLoader: Unable to load native-hadoop library for your platform... using builtin-java classes where applicable\n"
     ]
    }
   ],
   "source": [
    "#data laodaing and creation\n",
    "\n",
    "spak = (SparkSession.builder.appName(\"sparkmag\").getOrCreate())\n"
   ]
  },
  {
   "cell_type": "code",
   "execution_count": 3,
   "id": "939c4f13-340d-4864-a12b-2b868a843bf5",
   "metadata": {},
   "outputs": [],
   "source": [
    "#the url path of teh data \n",
    "\n",
    "data =\"/home/christine/Downloads/fakefriends.csv\""
   ]
  },
  {
   "cell_type": "code",
   "execution_count": 15,
   "id": "60affe6c-b91d-4b3f-bd6f-d7fafeb6fd38",
   "metadata": {},
   "outputs": [],
   "source": [
    "df =spak.read\\\n",
    "    .format(\"csv\")\\\n",
    "    .option(\"inferschema\",True)\\\n",
    "    .option(\"header\",False)\\\n",
    "    . load(data)"
   ]
  },
  {
   "cell_type": "code",
   "execution_count": 16,
   "id": "409bb2d2-15a5-41d4-b1cc-d65f5e8717c7",
   "metadata": {},
   "outputs": [
    {
     "name": "stdout",
     "output_type": "stream",
     "text": [
      "+---+--------+---+---+\n",
      "|_c0|     _c1|_c2|_c3|\n",
      "+---+--------+---+---+\n",
      "|  0|    Will| 33|385|\n",
      "|  1|Jean-Luc| 26|  2|\n",
      "|  2|    Hugh| 55|221|\n",
      "|  3|  Deanna| 40|465|\n",
      "|  4|   Quark| 68| 21|\n",
      "|  5|  Weyoun| 59|318|\n",
      "|  6|  Gowron| 37|220|\n",
      "|  7|    Will| 54|307|\n",
      "|  8|  Jadzia| 38|380|\n",
      "|  9|    Hugh| 27|181|\n",
      "| 10|     Odo| 53|191|\n",
      "| 11|     Ben| 57|372|\n",
      "| 12|   Keiko| 54|253|\n",
      "| 13|Jean-Luc| 56|444|\n",
      "| 14|    Hugh| 43| 49|\n",
      "| 15|     Rom| 36| 49|\n",
      "| 16|  Weyoun| 22|323|\n",
      "| 17|     Odo| 35| 13|\n",
      "| 18|Jean-Luc| 45|455|\n",
      "| 19|  Geordi| 60|246|\n",
      "+---+--------+---+---+\n",
      "only showing top 20 rows\n",
      "\n"
     ]
    }
   ],
   "source": [
    "df.show()"
   ]
  },
  {
   "cell_type": "code",
   "execution_count": 17,
   "id": "35a44fdb-2364-4173-83e2-f941f39f526a",
   "metadata": {},
   "outputs": [
    {
     "name": "stdout",
     "output_type": "stream",
     "text": [
      "+-------+-----------------+----+------------------+-----------------+\n",
      "|summary|              _c0| _c1|               _c2|              _c3|\n",
      "+-------+-----------------+----+------------------+-----------------+\n",
      "|  count|              500| 500|               500|              500|\n",
      "|   mean|            249.5|null|            43.708|          248.532|\n",
      "| stddev|144.4818327679989|null|14.864340996711995|147.2217288680643|\n",
      "|    min|                0| Ben|                18|                1|\n",
      "|    max|              499|Worf|                69|              499|\n",
      "+-------+-----------------+----+------------------+-----------------+\n",
      "\n"
     ]
    }
   ],
   "source": [
    "df.describe().show()"
   ]
  },
  {
   "cell_type": "code",
   "execution_count": 18,
   "id": "d88d583a-1ec1-4f71-9163-539ea2a5841b",
   "metadata": {},
   "outputs": [
    {
     "name": "stdout",
     "output_type": "stream",
     "text": [
      "root\n",
      " |-- _c0: integer (nullable = true)\n",
      " |-- _c1: string (nullable = true)\n",
      " |-- _c2: integer (nullable = true)\n",
      " |-- _c3: integer (nullable = true)\n",
      "\n"
     ]
    }
   ],
   "source": [
    "df.printSchema()"
   ]
  },
  {
   "cell_type": "code",
   "execution_count": 24,
   "id": "8b85aa90-e21a-4efb-b0ec-ed4d807e735e",
   "metadata": {},
   "outputs": [],
   "source": [
    "# df.isEmpty()"
   ]
  },
  {
   "cell_type": "code",
   "execution_count": 20,
   "id": "09116974-bc3a-475d-b7bd-3f37879fe2b3",
   "metadata": {},
   "outputs": [
    {
     "data": {
      "text/plain": [
       "['_c0', '_c1', '_c2', '_c3']"
      ]
     },
     "execution_count": 20,
     "metadata": {},
     "output_type": "execute_result"
    }
   ],
   "source": [
    "df.col"
   ]
  },
  {
   "cell_type": "code",
   "execution_count": 21,
   "id": "55ff89e0-e30c-4523-bdb1-469db0cb592b",
   "metadata": {},
   "outputs": [
    {
     "data": {
      "text/plain": [
       "500"
      ]
     },
     "execution_count": 21,
     "metadata": {},
     "output_type": "execute_result"
    }
   ],
   "source": [
    "df.count() \n",
    "#it give the total numnber of rows"
   ]
  },
  {
   "cell_type": "code",
   "execution_count": 22,
   "id": "6b712ba4-b75b-4251-a47b-03847fe36760",
   "metadata": {},
   "outputs": [
    {
     "data": {
      "text/plain": [
       "[Row(_c0=0, _c1='Will', _c2=33, _c3=385),\n",
       " Row(_c0=1, _c1='Jean-Luc', _c2=26, _c3=2),\n",
       " Row(_c0=2, _c1='Hugh', _c2=55, _c3=221),\n",
       " Row(_c0=3, _c1='Deanna', _c2=40, _c3=465),\n",
       " Row(_c0=4, _c1='Quark', _c2=68, _c3=21),\n",
       " Row(_c0=5, _c1='Weyoun', _c2=59, _c3=318)]"
      ]
     },
     "execution_count": 22,
     "metadata": {},
     "output_type": "execute_result"
    }
   ],
   "source": [
    "df.head(6)"
   ]
  },
  {
   "cell_type": "code",
   "execution_count": 27,
   "id": "b6d9a5b5-d8ca-4bd9-94ad-d4d17ae473c5",
   "metadata": {},
   "outputs": [
    {
     "data": {
      "text/plain": [
       "<bound method DataFrame.select of DataFrame[_c0: int, _c1: string, _c2: int, _c3: int]>"
      ]
     },
     "execution_count": 27,
     "metadata": {},
     "output_type": "execute_result"
    }
   ],
   "source": [
    "df.select"
   ]
  },
  {
   "cell_type": "code",
   "execution_count": 26,
   "id": "2d97d047-aadd-4317-95f5-c9662013386f",
   "metadata": {},
   "outputs": [
    {
     "data": {
      "text/plain": [
       "[Row(_c0=0, _c1='Will', _c2=33, _c3=385),\n",
       " Row(_c0=1, _c1='Jean-Luc', _c2=26, _c3=2),\n",
       " Row(_c0=2, _c1='Hugh', _c2=55, _c3=221),\n",
       " Row(_c0=3, _c1='Deanna', _c2=40, _c3=465)]"
      ]
     },
     "execution_count": 26,
     "metadata": {},
     "output_type": "execute_result"
    }
   ],
   "source": [
    "df.take(4)"
   ]
  },
  {
   "cell_type": "code",
   "execution_count": 31,
   "id": "3cbfca62-ebac-481f-991f-1123136dad23",
   "metadata": {},
   "outputs": [],
   "source": [
    "#selecting specific columns\n",
    "newdf =df.select('_c1','_c2')"
   ]
  },
  {
   "cell_type": "code",
   "execution_count": 32,
   "id": "53217e0d-9934-415b-9ba2-6d435d711de0",
   "metadata": {},
   "outputs": [
    {
     "name": "stdout",
     "output_type": "stream",
     "text": [
      "+--------+---+\n",
      "|     _c1|_c2|\n",
      "+--------+---+\n",
      "|    Will| 33|\n",
      "|Jean-Luc| 26|\n",
      "|    Hugh| 55|\n",
      "|  Deanna| 40|\n",
      "|   Quark| 68|\n",
      "|  Weyoun| 59|\n",
      "|  Gowron| 37|\n",
      "|    Will| 54|\n",
      "|  Jadzia| 38|\n",
      "|    Hugh| 27|\n",
      "|     Odo| 53|\n",
      "|     Ben| 57|\n",
      "|   Keiko| 54|\n",
      "|Jean-Luc| 56|\n",
      "|    Hugh| 43|\n",
      "|     Rom| 36|\n",
      "|  Weyoun| 22|\n",
      "|     Odo| 35|\n",
      "|Jean-Luc| 45|\n",
      "|  Geordi| 60|\n",
      "+--------+---+\n",
      "only showing top 20 rows\n",
      "\n"
     ]
    }
   ],
   "source": [
    "newdf.show()"
   ]
  },
  {
   "cell_type": "code",
   "execution_count": null,
   "id": "4e00798f-080d-44e9-b051-548a4c7417b1",
   "metadata": {},
   "outputs": [],
   "source": []
  },
  {
   "cell_type": "code",
   "execution_count": 39,
   "id": "aacda3eb-b6c3-40cb-82bf-87062221ede6",
   "metadata": {},
   "outputs": [
    {
     "data": {
      "text/plain": [
       "[Row(_c0=0, _c1='Will', _c2=33, _c3=385)]"
      ]
     },
     "execution_count": 39,
     "metadata": {},
     "output_type": "execute_result"
    }
   ],
   "source": [
    "fist_2 = df.take(1)\n",
    "\n",
    "fist_2 "
   ]
  },
  {
   "cell_type": "code",
   "execution_count": 40,
   "id": "332f2cae-04e6-4c29-97c8-ca947a9f749d",
   "metadata": {},
   "outputs": [
    {
     "data": {
      "text/plain": [
       "Row(_c0=0, _c1='Will', _c2=33, _c3=385)"
      ]
     },
     "execution_count": 40,
     "metadata": {},
     "output_type": "execute_result"
    }
   ],
   "source": [
    "df.first()"
   ]
  },
  {
   "cell_type": "code",
   "execution_count": 43,
   "id": "6e608353-7bd7-45b5-ab40-c717623ba49b",
   "metadata": {},
   "outputs": [],
   "source": [
    "#create tenmpo view\n",
    "\n",
    "df.createOrReplaceTempView(\"people\")"
   ]
  },
  {
   "cell_type": "code",
   "execution_count": 48,
   "id": "7d4292ef-4f36-4d1e-9131-86d27d31c04e",
   "metadata": {},
   "outputs": [
    {
     "name": "stdout",
     "output_type": "stream",
     "text": [
      "+---+--------+---+---+\n",
      "|_c0|     _c1|_c2|_c3|\n",
      "+---+--------+---+---+\n",
      "|  0|    Will| 33|385|\n",
      "|  1|Jean-Luc| 26|  2|\n",
      "|  2|    Hugh| 55|221|\n",
      "|  3|  Deanna| 40|465|\n",
      "|  4|   Quark| 68| 21|\n",
      "|  5|  Weyoun| 59|318|\n",
      "|  6|  Gowron| 37|220|\n",
      "|  7|    Will| 54|307|\n",
      "|  8|  Jadzia| 38|380|\n",
      "|  9|    Hugh| 27|181|\n",
      "| 10|     Odo| 53|191|\n",
      "| 11|     Ben| 57|372|\n",
      "| 12|   Keiko| 54|253|\n",
      "| 13|Jean-Luc| 56|444|\n",
      "| 14|    Hugh| 43| 49|\n",
      "| 15|     Rom| 36| 49|\n",
      "| 16|  Weyoun| 22|323|\n",
      "| 17|     Odo| 35| 13|\n",
      "| 18|Jean-Luc| 45|455|\n",
      "| 19|  Geordi| 60|246|\n",
      "+---+--------+---+---+\n",
      "only showing top 20 rows\n",
      "\n"
     ]
    }
   ],
   "source": [
    "#execute the quetu \n",
    "\n",
    "result=  spak.sql (\"SELECT * FROM people\")\n",
    "result.show()"
   ]
  },
  {
   "cell_type": "code",
   "execution_count": 49,
   "id": "d0877c7e-04b5-4791-aa4e-c775657ae913",
   "metadata": {},
   "outputs": [
    {
     "name": "stdout",
     "output_type": "stream",
     "text": [
      "+-------+-----------------+----+------------------+-----------------+\n",
      "|summary|              _c0| _c1|               _c2|              _c3|\n",
      "+-------+-----------------+----+------------------+-----------------+\n",
      "|  count|              500| 500|               500|              500|\n",
      "|   mean|            249.5|null|            43.708|          248.532|\n",
      "| stddev|144.4818327679989|null|14.864340996711995|147.2217288680643|\n",
      "|    min|                0| Ben|                18|                1|\n",
      "|    max|              499|Worf|                69|              499|\n",
      "+-------+-----------------+----+------------------+-----------------+\n",
      "\n"
     ]
    }
   ],
   "source": [
    "result.describe().show()"
   ]
  },
  {
   "cell_type": "code",
   "execution_count": null,
   "id": "112d12dc-bc39-41bc-b81b-bf890d62c5d7",
   "metadata": {},
   "outputs": [],
   "source": []
  }
 ],
 "metadata": {
  "kernelspec": {
   "display_name": "Python 3 (ipykernel)",
   "language": "python",
   "name": "python3"
  },
  "language_info": {
   "codemirror_mode": {
    "name": "ipython",
    "version": 3
   },
   "file_extension": ".py",
   "mimetype": "text/x-python",
   "name": "python",
   "nbconvert_exporter": "python",
   "pygments_lexer": "ipython3",
   "version": "3.8.8"
  }
 },
 "nbformat": 4,
 "nbformat_minor": 5
}
